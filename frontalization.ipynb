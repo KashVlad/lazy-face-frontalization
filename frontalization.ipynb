{
 "cells": [
  {
   "cell_type": "code",
   "execution_count": 1,
   "id": "c9734972-5f71-49be-b15d-f08e306f6751",
   "metadata": {
    "editable": true,
    "slideshow": {
     "slide_type": ""
    },
    "tags": []
   },
   "outputs": [],
   "source": [
    "import numpy as np\n",
    "import os\n",
    "import glob\n",
    "import cv2\n",
    "import insightface\n",
    "from insightface.app import FaceAnalysis\n",
    "from insightface.data import get_image as ins_get_image\n",
    "from pathlib import Path"
   ]
  },
  {
   "cell_type": "code",
   "execution_count": 2,
   "id": "242ae96d-1a09-4c8d-b34b-374255ca4740",
   "metadata": {},
   "outputs": [],
   "source": [
    "INPUT_PATH=Path('./input/*')\n",
    "OUTPUT_PATH=Path('./output')\n",
    "OUTPUT_SIZE=(300,400)\n",
    "DUMMY_PATH = Path(\"./dummies/G_dummy.png\")\n",
    "dummy=cv2.imread(str(DUMMY_PATH))"
   ]
  },
  {
   "cell_type": "code",
   "execution_count": 3,
   "id": "3b9a58c7-13c8-4b4c-9788-29954412e6d4",
   "metadata": {},
   "outputs": [],
   "source": [
    "input_imgs=glob.glob(str(INPUT_PATH))"
   ]
  },
  {
   "cell_type": "code",
   "execution_count": 4,
   "id": "f4e99a5e-e2df-48ad-9162-5e410c739b19",
   "metadata": {},
   "outputs": [
    {
     "name": "stderr",
     "output_type": "stream",
     "text": [
      "C:\\Users\\Sasha\\AppData\\Roaming\\Python\\Python311\\site-packages\\onnxruntime\\capi\\onnxruntime_inference_collection.py:69: UserWarning: Specified provider 'CUDAExecutionProvider' is not in available provider names.Available providers: 'AzureExecutionProvider, CPUExecutionProvider'\n",
      "  warnings.warn(\n"
     ]
    },
    {
     "name": "stdout",
     "output_type": "stream",
     "text": [
      "Applied providers: ['CPUExecutionProvider'], with options: {'CPUExecutionProvider': {}}\n",
      "find model: C:\\Users\\Sasha/.insightface\\models\\buffalo_l\\1k3d68.onnx landmark_3d_68 ['None', 3, 192, 192] 0.0 1.0\n",
      "Applied providers: ['CPUExecutionProvider'], with options: {'CPUExecutionProvider': {}}\n",
      "find model: C:\\Users\\Sasha/.insightface\\models\\buffalo_l\\2d106det.onnx landmark_2d_106 ['None', 3, 192, 192] 0.0 1.0\n",
      "Applied providers: ['CPUExecutionProvider'], with options: {'CPUExecutionProvider': {}}\n",
      "find model: C:\\Users\\Sasha/.insightface\\models\\buffalo_l\\det_10g.onnx detection [1, 3, '?', '?'] 127.5 128.0\n",
      "Applied providers: ['CPUExecutionProvider'], with options: {'CPUExecutionProvider': {}}\n",
      "find model: C:\\Users\\Sasha/.insightface\\models\\buffalo_l\\genderage.onnx genderage ['None', 3, 96, 96] 0.0 1.0\n",
      "Applied providers: ['CPUExecutionProvider'], with options: {'CPUExecutionProvider': {}}\n",
      "find model: C:\\Users\\Sasha/.insightface\\models\\buffalo_l\\w600k_r50.onnx recognition ['None', 3, 112, 112] 127.5 127.5\n",
      "set det-size: (640, 640)\n",
      "Applied providers: ['CPUExecutionProvider'], with options: {'CPUExecutionProvider': {}}\n",
      "inswapper-shape: [1, 3, 128, 128]\n"
     ]
    },
    {
     "name": "stderr",
     "output_type": "stream",
     "text": [
      "C:\\Users\\Sasha\\anaconda3\\envs\\LFF\\Lib\\site-packages\\insightface\\utils\\transform.py:68: FutureWarning: `rcond` parameter will change to the default of machine precision times ``max(M, N)`` where M and N are the input matrix dimensions.\n",
      "To use the future default and silence this warning we advise to pass `rcond=None`, to keep using the old, explicitly pass `rcond=-1`.\n",
      "  P = np.linalg.lstsq(X_homo, Y)[0].T # Affine matrix. 3 x 4\n"
     ]
    }
   ],
   "source": [
    "app = FaceAnalysis(name='buffalo_l')\n",
    "app.prepare(ctx_id=0,det_size=(640, 640))\n",
    "\n",
    "swapper=insightface.model_zoo.get_model('inswapper_128',download=False,download_zip=False)\n",
    "\n",
    "for img_path in input_imgs:\n",
    "    dummy_img=cv2.imread(str(DUMMY_PATH))\n",
    "    input_img=cv2.imread(img_path)\n",
    "    \n",
    "    dummy_face =app.get(dummy_img)[0]\n",
    "    input_face =app.get(input_img)[0]\n",
    "\n",
    "    output_img=dummy_img.copy()\n",
    "    output_img=swapper.get(output_img,dummy_face,input_face)\n",
    "\n",
    "    output_face=app.get(output_img)\n",
    "    bbox= output_face[0]['bbox']\n",
    "    bbox= [int(b) for b in bbox]\n",
    "    cropped_output_face=output_img[bbox[1]:bbox[3],bbox[0]:bbox[2],::-1]\n",
    "    cropped_resized_output_face=resized = cv2.resize(cropped_output_face, OUTPUT_SIZE, interpolation = cv2.INTER_AREA)\n",
    "    \n",
    "    cv2.imwrite(str(OUTPUT_PATH / Path(img_path).stem) + '_cropped_face.png',cropped_resized_output_face)\n",
    "    \n",
    "    ###if you don't need to crop the image you can use the next line###\n",
    "    # cv2.imwrite(str(OUTPUT_PATH / Path(img_path).stem) + '_output.png',output_img)"
   ]
  }
 ],
 "metadata": {
  "kernelspec": {
   "display_name": "Python 3 (ipykernel)",
   "language": "python",
   "name": "python3"
  },
  "language_info": {
   "codemirror_mode": {
    "name": "ipython",
    "version": 3
   },
   "file_extension": ".py",
   "mimetype": "text/x-python",
   "name": "python",
   "nbconvert_exporter": "python",
   "pygments_lexer": "ipython3",
   "version": "3.11.7"
  }
 },
 "nbformat": 4,
 "nbformat_minor": 5
}
